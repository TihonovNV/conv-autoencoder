{
 "cells": [
  {
   "cell_type": "markdown",
   "metadata": {},
   "source": [
    "# Convolutional Autoencoder"
   ]
  },
  {
   "cell_type": "code",
   "execution_count": 1,
   "metadata": {},
   "outputs": [],
   "source": [
    "from torchvision import datasets, transforms\n",
    "\n",
    "transform = transforms.Compose([transforms.ToTensor()])\n",
    "\n",
    "train_data = datasets.MNIST(root = './', train=True, download=True, transform=transform)\n",
    "val_data = datasets.MNIST(root = './', train=False, download=True, transform=transform)"
   ]
  },
  {
   "cell_type": "code",
   "execution_count": 2,
   "metadata": {},
   "outputs": [
    {
     "data": {
      "image/png": "[encoded data removed]",
      "text/plain": [
       "<Figure size 432x288 with 1 Axes>"
      ]
     },
     "metadata": {
      "needs_background": "light"
     },
     "output_type": "display_data"
    }
   ],
   "source": [
    "import matplotlib.pyplot as plt\n",
    "\n",
    "plt.gray()\n",
    "plt.imshow(train_data.data[0])\n",
    "None"
   ]
  },
  {
   "cell_type": "code",
   "execution_count": 3,
   "metadata": {},
   "outputs": [],
   "source": [
    "import torch\n",
    "import torch.nn as nn\n",
    "\n",
    "class AutoEncoder(nn.Module):\n",
    "\n",
    "    def __init__(self, embedding_size=20):\n",
    "        \n",
    "        super(AutoEncoder, self).__init__()\n",
    "        \n",
    "        self.encoder = nn.Sequential(\n",
    "            nn.Conv2d(kernel_size=(2, 2), in_channels=1, out_channels=32, stride=(2, 2)),\n",
    "            nn.ReLU(),\n",
    "            nn.Conv2d(kernel_size=(2, 2), in_channels=32, out_channels=64, stride=(2, 2)),\n",
    "            nn.ReLU(),\n",
    "            nn.Conv2d(kernel_size=(2, 2), in_channels=64, out_channels=128, stride=(2, 2)),\n",
    "            nn.ReLU()\n",
    "        )\n",
    "        \n",
    "        self.embedded = nn.Linear(3 * 3 * 128, embedding_size)\n",
    "        \n",
    "        self.fc = nn.Linear(embedding_size, 3 * 3 * 128)\n",
    "        \n",
    "        self.decoder = nn.Sequential(\n",
    "            nn.ConvTranspose2d(kernel_size=(2, 2), in_channels=128, out_channels=64, stride=(2, 2), output_padding=1),\n",
    "            nn.ReLU(),\n",
    "            nn.ConvTranspose2d(kernel_size=(2, 2), in_channels=64, out_channels=32, stride=(2, 2)),\n",
    "            nn.ReLU(),\n",
    "            nn.ConvTranspose2d(kernel_size=(2, 2), in_channels=32, out_channels=1, stride=(2, 2)), \n",
    "            nn.Sigmoid()\n",
    "        )\n",
    "        \n",
    "    def forward(self, x):\n",
    "        \n",
    "        x = self.encoder(x)\n",
    "        \n",
    "        x = x.view(x.size(0), 3 * 3 * 128)\n",
    "        x = self.embedded(x)\n",
    "        x = self.fc(x)\n",
    "        x = x.view(x.size(0), 128, 3, 3)\n",
    "        \n",
    "        x = self.decoder(x)\n",
    "        \n",
    "        return x\n",
    "    "
   ]
  },
  {
   "cell_type": "code",
   "execution_count": 4,
   "metadata": {},
   "outputs": [],
   "source": [
    "encoder = AutoEncoder()"
   ]
  },
  {
   "cell_type": "code",
   "execution_count": 5,
   "metadata": {},
   "outputs": [
    {
     "data": {
      "text/plain": [
       "==========================================================================================\n",
       "Layer (type:depth-idx)                   Output Shape              Param #\n",
       "==========================================================================================\n",
       "AutoEncoder                              --                        --\n",
       "├─Sequential: 1-1                        [10, 128, 3, 3]           --\n",
       "│    └─Conv2d: 2-1                       [10, 32, 14, 14]          160\n",
       "│    └─ReLU: 2-2                         [10, 32, 14, 14]          --\n",
       "│    └─Conv2d: 2-3                       [10, 64, 7, 7]            8,256\n",
       "│    └─ReLU: 2-4                         [10, 64, 7, 7]            --\n",
       "│    └─Conv2d: 2-5                       [10, 128, 3, 3]           32,896\n",
       "│    └─ReLU: 2-6                         [10, 128, 3, 3]           --\n",
       "├─Linear: 1-2                            [10, 20]                  23,060\n",
       "├─Linear: 1-3                            [10, 1152]                24,192\n",
       "├─Sequential: 1-4                        [10, 1, 28, 28]           --\n",
       "│    └─ConvTranspose2d: 2-7              [10, 64, 7, 7]            32,832\n",
       "│    └─ReLU: 2-8                         [10, 64, 7, 7]            --\n",
       "│    └─ConvTranspose2d: 2-9              [10, 32, 14, 14]          8,224\n",
       "│    └─ReLU: 2-10                        [10, 32, 14, 14]          --\n",
       "│    └─ConvTranspose2d: 2-11             [10, 1, 28, 28]           129\n",
       "│    └─Sigmoid: 2-12                     [10, 1, 28, 28]           --\n",
       "==========================================================================================\n",
       "Total params: 129,749\n",
       "Trainable params: 129,749\n",
       "Non-trainable params: 0\n",
       "Total mult-adds (M): 93.79\n",
       "==========================================================================================\n",
       "Input size (MB): 0.03\n",
       "Forward/backward pass size (MB): 1.75\n",
       "Params size (MB): 0.52\n",
       "Estimated Total Size (MB): 2.30\n",
       "=========================================================================================="
      ]
     },
     "execution_count": 5,
     "metadata": {},
     "output_type": "execute_result"
    }
   ],
   "source": [
    "from torchinfo import summary\n",
    "\n",
    "summary(encoder, (10, 1, 28, 28))"
   ]
  },
  {
   "cell_type": "code",
   "execution_count": 6,
   "metadata": {},
   "outputs": [],
   "source": [
    "batch_size = 1000\n",
    "\n",
    "train_dataloader = torch.utils.data.DataLoader(\n",
    "    train_data, batch_size=batch_size, shuffle=True, num_workers=4)\n",
    "val_dataloader = torch.utils.data.DataLoader(\n",
    "    val_data, batch_size=batch_size, shuffle=False, num_workers=4)"
   ]
  },
  {
   "cell_type": "code",
   "execution_count": 7,
   "metadata": {},
   "outputs": [],
   "source": [
    "device = torch.device(\"cuda:0\" if torch.cuda.is_available() else \"cpu\")\n",
    "encoder = encoder.to(device)\n",
    "\n",
    "loss = torch.nn.MSELoss()\n",
    "optimizer = torch.optim.Adam(encoder.parameters())"
   ]
  },
  {
   "cell_type": "code",
   "execution_count": 8,
   "metadata": {},
   "outputs": [
    {
     "name": "stdout",
     "output_type": "stream",
     "text": [
      "Epoch 1: train loss - 0.1475, val loss - 0.1142\n",
      "Epoch 2: train loss - 0.0882, val loss - 0.0606\n",
      "Epoch 3: train loss - 0.0442, val loss - 0.0327\n",
      "Epoch 4: train loss - 0.0287, val loss - 0.0243\n",
      "Epoch 5: train loss - 0.0228, val loss - 0.0205\n",
      "Epoch 6: train loss - 0.0200, val loss - 0.0184\n",
      "Epoch 7: train loss - 0.0183, val loss - 0.0172\n",
      "Epoch 8: train loss - 0.0171, val loss - 0.0163\n",
      "Epoch 9: train loss - 0.0163, val loss - 0.0156\n",
      "Epoch 10: train loss - 0.0157, val loss - 0.0151\n",
      "Epoch 11: train loss - 0.0152, val loss - 0.0147\n",
      "Epoch 12: train loss - 0.0149, val loss - 0.0144\n",
      "Epoch 13: train loss - 0.0145, val loss - 0.0140\n",
      "Epoch 14: train loss - 0.0142, val loss - 0.0138\n",
      "Epoch 15: train loss - 0.0139, val loss - 0.0134\n",
      "Epoch 16: train loss - 0.0137, val loss - 0.0132\n",
      "Epoch 17: train loss - 0.0134, val loss - 0.0129\n",
      "Epoch 18: train loss - 0.0131, val loss - 0.0127\n",
      "Epoch 19: train loss - 0.0129, val loss - 0.0126\n",
      "Epoch 20: train loss - 0.0128, val loss - 0.0125\n"
     ]
    }
   ],
   "source": [
    "num_epochs = 20\n",
    "outputs = []\n",
    "for epoch in range(num_epochs):\n",
    "    \n",
    "    encoder.train()\n",
    "    epoch_train_loss = 0\n",
    "    \n",
    "    for (img, _) in train_dataloader:\n",
    "        \n",
    "        optimizer.zero_grad()\n",
    "        \n",
    "        img = img.to(device)\n",
    "        reconstructed = encoder(img)\n",
    "        loss_value = loss(reconstructed, img)\n",
    "        \n",
    "        epoch_train_loss += img.size(0)*loss_value.item()\n",
    "        \n",
    "        loss_value.backward()\n",
    "        optimizer.step()\n",
    "    \n",
    "    encoder.eval()\n",
    "    epoch_val_loss = 0\n",
    "    \n",
    "    with torch.no_grad():\n",
    "        for (img, _) in val_dataloader:\n",
    "\n",
    "            img = img.to(device)\n",
    "            recon = encoder(img)\n",
    "            loss_value = loss(recon, img)\n",
    "\n",
    "            epoch_val_loss += img.size(0)*loss_value.item()\n",
    "    \n",
    "    epoch_train_loss /= len(train_dataloader.dataset)\n",
    "    epoch_val_loss /= len(val_dataloader.dataset)\n",
    "    \n",
    "    print(f'Epoch {epoch + 1}: train loss - {epoch_train_loss:.4f}, val loss - {epoch_val_loss:.4f}')\n",
    "    outputs.append((epoch, img, recon))"
   ]
  },
  {
   "cell_type": "code",
   "execution_count": 9,
   "metadata": {},
   "outputs": [
    {
     "data": {
      "image/png": "[encoded data removed]",
      "text/plain": [
       "<Figure size 432x288 with 1 Axes>"
      ]
     },
     "metadata": {
      "needs_background": "light"
     },
     "output_type": "display_data"
    }
   ],
   "source": [
    "test_image = val_dataloader.dataset[2][0]\n",
    "\n",
    "plt.imshow(test_image.view(28, 28))\n",
    "None"
   ]
  },
  {
   "cell_type": "code",
   "execution_count": 10,
   "metadata": {},
   "outputs": [
    {
     "data": {
      "image/png": "[encoded data removed]",
      "text/plain": [
       "<Figure size 432x288 with 1 Axes>"
      ]
     },
     "metadata": {
      "needs_background": "light"
     },
     "output_type": "display_data"
    }
   ],
   "source": [
    "encoder.eval()\n",
    "\n",
    "with torch.no_grad():\n",
    "    transformed = encoder.forward(test_image.view(1, 1, 28, 28).to(device))\n",
    "\n",
    "plt.gray()\n",
    "plt.imshow((transformed[0]).cpu().detach().view(28, 28).numpy())\n",
    "None"
   ]
  }
 ],
 "metadata": {
  "kernelspec": {
   "display_name": "Python 3",
   "language": "python",
   "name": "python3"
  },
  "language_info": {
   "codemirror_mode": {
    "name": "ipython",
    "version": 3
   },
   "file_extension": ".py",
   "mimetype": "text/x-python",
   "name": "python",
   "nbconvert_exporter": "python",
   "pygments_lexer": "ipython3",
   "version": "3.8.5"
  }
 },
 "nbformat": 4,
 "nbformat_minor": 4
}
